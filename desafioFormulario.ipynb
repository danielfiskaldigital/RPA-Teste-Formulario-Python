{
 "cells": [
  {
   "cell_type": "code",
   "execution_count": null,
   "metadata": {},
   "outputs": [],
   "source": [
    "from selenium import webdriver\n",
    "import pandas as pd\n",
    "\n",
    "driver = webdriver.Chrome(executable_path=r'./chromedriver.exe') # Executar chromedriver\n",
    "driver.get('https://www.rpachallenge.com/') # Abrir site\n",
    "arquivo = pd.read_excel('challenge.xlsx') # Abri planilha\n",
    "qtd = len(arquivo) # Quantidade de linhas na planilha\n",
    "arquivo.head() # Ler planilha"
   ]
  },
  {
   "cell_type": "code",
   "execution_count": null,
   "metadata": {},
   "outputs": [],
   "source": [
    "driver.find_element_by_xpath('/html/body/app-root/div[2]/app-rpa1/div/div[1]/div[6]/button').click()\n",
    "\n",
    "for i in range(qtd):\n",
    "    # Pegar dados da planilha\n",
    "    RoleInCompany = arquivo.loc[i, 'Role in Company']\n",
    "    PhoneNumber = arquivo.loc[i, 'Phone Number']\n",
    "    Address = arquivo.loc[i, 'Address']\n",
    "    Email = arquivo.loc[i, 'Email']\n",
    "    CompanyName = arquivo.loc[i, 'Company Name']\n",
    "    FirstName = arquivo.loc[i, 'First Name']\n",
    "    LastName = arquivo.loc[i, 'Last Name ']\n",
    "    \n",
    "    # Preencher dados no formulario\n",
    "    driver.find_element_by_css_selector(\"input[ng-reflect-name=labelRole]\").send_keys(RoleInCompany)\n",
    "    driver.find_element_by_css_selector(\"input[ng-reflect-name=labelPhone]\").send_keys(str(PhoneNumber)) # Transforma dados em string antes de executar\n",
    "    driver.find_element_by_css_selector(\"input[ng-reflect-name=labelAddress]\").send_keys(Address)\n",
    "    driver.find_element_by_css_selector(\"input[ng-reflect-name=labelEmail]\").send_keys(Email)\n",
    "    driver.find_element_by_css_selector(\"input[ng-reflect-name=labelCompanyName]\").send_keys(CompanyName)\n",
    "    driver.find_element_by_css_selector(\"input[ng-reflect-name=labelFirstName]\").send_keys(FirstName)\n",
    "    driver.find_element_by_css_selector(\"input[ng-reflect-name=labelLastName]\").send_keys(LastName)\n",
    "    driver.find_element_by_css_selector(\"input[type=submit]\").click()"
   ]
  }
 ],
 "metadata": {
  "kernelspec": {
   "display_name": "Python 3.10.4 64-bit",
   "language": "python",
   "name": "python3"
  },
  "language_info": {
   "codemirror_mode": {
    "name": "ipython",
    "version": 3
   },
   "file_extension": ".py",
   "mimetype": "text/x-python",
   "name": "python",
   "nbconvert_exporter": "python",
   "pygments_lexer": "ipython3",
   "version": "3.10.4"
  },
  "orig_nbformat": 4,
  "vscode": {
   "interpreter": {
    "hash": "8cb75666882be525aa8ba37869b99a984cc6247828c55d21da694572be20707d"
   }
  }
 },
 "nbformat": 4,
 "nbformat_minor": 2
}
