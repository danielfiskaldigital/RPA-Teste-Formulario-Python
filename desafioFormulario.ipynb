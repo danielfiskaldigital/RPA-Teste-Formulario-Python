{
 "cells": [
  {
   "cell_type": "code",
   "execution_count": 7,
   "metadata": {},
   "outputs": [
    {
     "name": "stderr",
     "output_type": "stream",
     "text": [
      "C:\\Users\\fiska\\AppData\\Local\\Temp\\ipykernel_1536\\3760765741.py:4: DeprecationWarning: executable_path has been deprecated, please pass in a Service object\n",
      "  driver = webdriver.Chrome(executable_path=r'./chromedriver.exe') # Executar chromedriver\n"
     ]
    },
    {
     "data": {
      "text/html": [
       "<div>\n",
       "<style scoped>\n",
       "    .dataframe tbody tr th:only-of-type {\n",
       "        vertical-align: middle;\n",
       "    }\n",
       "\n",
       "    .dataframe tbody tr th {\n",
       "        vertical-align: top;\n",
       "    }\n",
       "\n",
       "    .dataframe thead th {\n",
       "        text-align: right;\n",
       "    }\n",
       "</style>\n",
       "<table border=\"1\" class=\"dataframe\">\n",
       "  <thead>\n",
       "    <tr style=\"text-align: right;\">\n",
       "      <th></th>\n",
       "      <th>First Name</th>\n",
       "      <th>Last Name</th>\n",
       "      <th>Company Name</th>\n",
       "      <th>Role in Company</th>\n",
       "      <th>Address</th>\n",
       "      <th>Email</th>\n",
       "      <th>Phone Number</th>\n",
       "    </tr>\n",
       "  </thead>\n",
       "  <tbody>\n",
       "    <tr>\n",
       "      <th>0</th>\n",
       "      <td>John</td>\n",
       "      <td>Smith</td>\n",
       "      <td>IT Solutions</td>\n",
       "      <td>Analyst</td>\n",
       "      <td>98 North Road</td>\n",
       "      <td>jsmith@itsolutions.co.uk</td>\n",
       "      <td>40716543298</td>\n",
       "    </tr>\n",
       "    <tr>\n",
       "      <th>1</th>\n",
       "      <td>Jane</td>\n",
       "      <td>Dorsey</td>\n",
       "      <td>MediCare</td>\n",
       "      <td>Medical Engineer</td>\n",
       "      <td>11 Crown Street</td>\n",
       "      <td>jdorsey@mc.com</td>\n",
       "      <td>40791345621</td>\n",
       "    </tr>\n",
       "    <tr>\n",
       "      <th>2</th>\n",
       "      <td>Albert</td>\n",
       "      <td>Kipling</td>\n",
       "      <td>Waterfront</td>\n",
       "      <td>Accountant</td>\n",
       "      <td>22 Guild Street</td>\n",
       "      <td>kipling@waterfront.com</td>\n",
       "      <td>40735416854</td>\n",
       "    </tr>\n",
       "    <tr>\n",
       "      <th>3</th>\n",
       "      <td>Michael</td>\n",
       "      <td>Robertson</td>\n",
       "      <td>MediCare</td>\n",
       "      <td>IT Specialist</td>\n",
       "      <td>17 Farburn Terrace</td>\n",
       "      <td>mrobertson@mc.com</td>\n",
       "      <td>40733652145</td>\n",
       "    </tr>\n",
       "    <tr>\n",
       "      <th>4</th>\n",
       "      <td>Doug</td>\n",
       "      <td>Derrick</td>\n",
       "      <td>Timepath Inc.</td>\n",
       "      <td>Analyst</td>\n",
       "      <td>99 Shire Oak Road</td>\n",
       "      <td>dderrick@timepath.co.uk</td>\n",
       "      <td>40799885412</td>\n",
       "    </tr>\n",
       "  </tbody>\n",
       "</table>\n",
       "</div>"
      ],
      "text/plain": [
       "  First Name Last Name    Company Name   Role in Company             Address  \\\n",
       "0       John      Smith   IT Solutions           Analyst       98 North Road   \n",
       "1       Jane     Dorsey       MediCare  Medical Engineer     11 Crown Street   \n",
       "2     Albert    Kipling     Waterfront        Accountant     22 Guild Street   \n",
       "3    Michael  Robertson       MediCare     IT Specialist  17 Farburn Terrace   \n",
       "4       Doug    Derrick  Timepath Inc.           Analyst   99 Shire Oak Road   \n",
       "\n",
       "                      Email  Phone Number  \n",
       "0  jsmith@itsolutions.co.uk   40716543298  \n",
       "1            jdorsey@mc.com   40791345621  \n",
       "2    kipling@waterfront.com   40735416854  \n",
       "3         mrobertson@mc.com   40733652145  \n",
       "4   dderrick@timepath.co.uk   40799885412  "
      ]
     },
     "execution_count": 7,
     "metadata": {},
     "output_type": "execute_result"
    }
   ],
   "source": [
    "from selenium import webdriver\n",
    "import pandas as pd\n",
    "\n",
    "driver = webdriver.Chrome(executable_path=r'./chromedriver.exe') # Executar chromedriver\n",
    "driver.get('https://www.rpachallenge.com/') # Abrir site\n",
    "arquivo = pd.read_excel('challenge.xlsx') # Abri planilha\n",
    "qtd = len(arquivo) # Quantidade de linhas na planilha\n",
    "arquivo.head() # Ler planilha"
   ]
  },
  {
   "cell_type": "code",
   "execution_count": 8,
   "metadata": {},
   "outputs": [
    {
     "name": "stderr",
     "output_type": "stream",
     "text": [
      "C:\\Users\\fiska\\AppData\\Local\\Temp\\ipykernel_1536\\3073234866.py:1: DeprecationWarning: find_element_by_xpath is deprecated. Please use find_element(by=By.XPATH, value=xpath) instead\n",
      "  driver.find_element_by_xpath('/html/body/app-root/div[2]/app-rpa1/div/div[1]/div[6]/button').click()\n",
      "C:\\Users\\fiska\\AppData\\Local\\Temp\\ipykernel_1536\\3073234866.py:14: DeprecationWarning: find_element_by_css_selector is deprecated. Please use find_element(by=By.CSS_SELECTOR, value=css_selector) instead\n",
      "  driver.find_element_by_css_selector(\"input[ng-reflect-name=labelRole]\").send_keys(RoleInCompany)\n",
      "C:\\Users\\fiska\\AppData\\Local\\Temp\\ipykernel_1536\\3073234866.py:15: DeprecationWarning: find_element_by_css_selector is deprecated. Please use find_element(by=By.CSS_SELECTOR, value=css_selector) instead\n",
      "  driver.find_element_by_css_selector(\"input[ng-reflect-name=labelPhone]\").send_keys(str(PhoneNumber)) # Transforma dados em string antes de executar\n",
      "C:\\Users\\fiska\\AppData\\Local\\Temp\\ipykernel_1536\\3073234866.py:16: DeprecationWarning: find_element_by_css_selector is deprecated. Please use find_element(by=By.CSS_SELECTOR, value=css_selector) instead\n",
      "  driver.find_element_by_css_selector(\"input[ng-reflect-name=labelAddress]\").send_keys(Address)\n",
      "C:\\Users\\fiska\\AppData\\Local\\Temp\\ipykernel_1536\\3073234866.py:17: DeprecationWarning: find_element_by_css_selector is deprecated. Please use find_element(by=By.CSS_SELECTOR, value=css_selector) instead\n",
      "  driver.find_element_by_css_selector(\"input[ng-reflect-name=labelEmail]\").send_keys(Email)\n",
      "C:\\Users\\fiska\\AppData\\Local\\Temp\\ipykernel_1536\\3073234866.py:18: DeprecationWarning: find_element_by_css_selector is deprecated. Please use find_element(by=By.CSS_SELECTOR, value=css_selector) instead\n",
      "  driver.find_element_by_css_selector(\"input[ng-reflect-name=labelCompanyName]\").send_keys(CompanyName)\n",
      "C:\\Users\\fiska\\AppData\\Local\\Temp\\ipykernel_1536\\3073234866.py:19: DeprecationWarning: find_element_by_css_selector is deprecated. Please use find_element(by=By.CSS_SELECTOR, value=css_selector) instead\n",
      "  driver.find_element_by_css_selector(\"input[ng-reflect-name=labelFirstName]\").send_keys(FirstName)\n",
      "C:\\Users\\fiska\\AppData\\Local\\Temp\\ipykernel_1536\\3073234866.py:20: DeprecationWarning: find_element_by_css_selector is deprecated. Please use find_element(by=By.CSS_SELECTOR, value=css_selector) instead\n",
      "  driver.find_element_by_css_selector(\"input[ng-reflect-name=labelLastName]\").send_keys(LastName)\n",
      "C:\\Users\\fiska\\AppData\\Local\\Temp\\ipykernel_1536\\3073234866.py:21: DeprecationWarning: find_element_by_css_selector is deprecated. Please use find_element(by=By.CSS_SELECTOR, value=css_selector) instead\n",
      "  driver.find_element_by_css_selector(\"input[type=submit]\").click()\n"
     ]
    }
   ],
   "source": [
    "driver.find_element_by_xpath('/html/body/app-root/div[2]/app-rpa1/div/div[1]/div[6]/button').click()\n",
    "\n",
    "for i in range(qtd):\n",
    "    # Pegar dados da planilha\n",
    "    RoleInCompany = arquivo.loc[i, 'Role in Company']\n",
    "    PhoneNumber = arquivo.loc[i, 'Phone Number']\n",
    "    Address = arquivo.loc[i, 'Address']\n",
    "    Email = arquivo.loc[i, 'Email']\n",
    "    CompanyName = arquivo.loc[i, 'Company Name']\n",
    "    FirstName = arquivo.loc[i, 'First Name']\n",
    "    LastName = arquivo.loc[i, 'Last Name ']\n",
    "    \n",
    "    # Preencher dados no formulario\n",
    "    driver.find_element_by_css_selector(\"input[ng-reflect-name=labelRole]\").send_keys(RoleInCompany)\n",
    "    driver.find_element_by_css_selector(\"input[ng-reflect-name=labelPhone]\").send_keys(str(PhoneNumber)) # Transforma dados em string antes de executar\n",
    "    driver.find_element_by_css_selector(\"input[ng-reflect-name=labelAddress]\").send_keys(Address)\n",
    "    driver.find_element_by_css_selector(\"input[ng-reflect-name=labelEmail]\").send_keys(Email)\n",
    "    driver.find_element_by_css_selector(\"input[ng-reflect-name=labelCompanyName]\").send_keys(CompanyName)\n",
    "    driver.find_element_by_css_selector(\"input[ng-reflect-name=labelFirstName]\").send_keys(FirstName)\n",
    "    driver.find_element_by_css_selector(\"input[ng-reflect-name=labelLastName]\").send_keys(LastName)\n",
    "    driver.find_element_by_css_selector(\"input[type=submit]\").click()"
   ]
  }
 ],
 "metadata": {
  "kernelspec": {
   "display_name": "Python 3.10.4 64-bit",
   "language": "python",
   "name": "python3"
  },
  "language_info": {
   "codemirror_mode": {
    "name": "ipython",
    "version": 3
   },
   "file_extension": ".py",
   "mimetype": "text/x-python",
   "name": "python",
   "nbconvert_exporter": "python",
   "pygments_lexer": "ipython3",
   "version": "3.10.4"
  },
  "orig_nbformat": 4,
  "vscode": {
   "interpreter": {
    "hash": "8cb75666882be525aa8ba37869b99a984cc6247828c55d21da694572be20707d"
   }
  }
 },
 "nbformat": 4,
 "nbformat_minor": 2
}
